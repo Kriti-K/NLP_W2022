{
 "cells": [
  {
   "cell_type": "code",
   "execution_count": 2,
   "metadata": {},
   "outputs": [
    {
     "ename": "ModuleNotFoundError",
     "evalue": "No module named 'google'",
     "output_type": "error",
     "traceback": [
      "\u001b[1;31m---------------------------------------------------------------------------\u001b[0m",
      "\u001b[1;31mModuleNotFoundError\u001b[0m                       Traceback (most recent call last)",
      "\u001b[1;32mc:\\Users\\Kriti Kapoor\\OneDrive\\Documents\\GitHub\\NLP_W2022\\Code\\RaceReligion\\sampleEntityMatching.ipynb Cell 1'\u001b[0m in \u001b[0;36m<cell line: 2>\u001b[1;34m()\u001b[0m\n\u001b[0;32m      <a href='vscode-notebook-cell:/c%3A/Users/Kriti%20Kapoor/OneDrive/Documents/GitHub/NLP_W2022/Code/RaceReligion/sampleEntityMatching.ipynb#ch0000000?line=0'>1</a>\u001b[0m \u001b[39mimport\u001b[39;00m \u001b[39mpickle\u001b[39;00m\n\u001b[1;32m----> <a href='vscode-notebook-cell:/c%3A/Users/Kriti%20Kapoor/OneDrive/Documents/GitHub/NLP_W2022/Code/RaceReligion/sampleEntityMatching.ipynb#ch0000000?line=1'>2</a>\u001b[0m \u001b[39mimport\u001b[39;00m \u001b[39mgoogle\u001b[39;00m\u001b[39m.\u001b[39;00m\u001b[39mcloud\u001b[39;00m\n\u001b[0;32m      <a href='vscode-notebook-cell:/c%3A/Users/Kriti%20Kapoor/OneDrive/Documents/GitHub/NLP_W2022/Code/RaceReligion/sampleEntityMatching.ipynb#ch0000000?line=2'>3</a>\u001b[0m \u001b[39mfrom\u001b[39;00m \u001b[39mgoogle\u001b[39;00m\u001b[39m.\u001b[39;00m\u001b[39mcloud\u001b[39;00m \u001b[39mimport\u001b[39;00m language_v1\n\u001b[0;32m      <a href='vscode-notebook-cell:/c%3A/Users/Kriti%20Kapoor/OneDrive/Documents/GitHub/NLP_W2022/Code/RaceReligion/sampleEntityMatching.ipynb#ch0000000?line=3'>4</a>\u001b[0m \u001b[39mimport\u001b[39;00m \u001b[39mos\u001b[39;00m\n",
      "\u001b[1;31mModuleNotFoundError\u001b[0m: No module named 'google'"
     ]
    }
   ],
   "source": [
    "import pickle\n",
    "from google.cloud import language_v1\n",
    "import os\n",
    "import numpy as np\n",
    "from Levenshtein import distance as lsd\n",
    "os.environ[\"GOOGLE_APPLICATION_CREDENTIALS\"]=\"C:/gcp_creds.json\""
   ]
  },
  {
   "cell_type": "code",
   "execution_count": null,
   "metadata": {},
   "outputs": [],
   "source": [
    "with open('StereosetEntities.pkl','rb') as file_handle:\n",
    "    ss_ents = pickle.load(file_handle)"
   ]
  },
  {
   "cell_type": "code",
   "execution_count": null,
   "metadata": {},
   "outputs": [],
   "source": [
    "def get_closest_match(entity):\n",
    "    distances = [lsd(entity,word) for word in ss_ents]\n",
    "    index = np.argmin(distances)\n",
    "    if min(distances) < 5: \n",
    "        return ss_ents[index]\n",
    "    else:\n",
    "        return -1"
   ]
  },
  {
   "cell_type": "code",
   "execution_count": null,
   "metadata": {},
   "outputs": [
    {
     "name": "stdout",
     "output_type": "stream",
     "text": [
      "muslims\n",
      "Entity sentiment score: 0.0\n",
      "issue\n",
      "Entity sentiment score: -0.4000000059604645\n"
     ]
    }
   ],
   "source": [
    "client = language_v1.LanguageServiceClient()\n",
    "type_ = language_v1.types.Document.Type.PLAIN_TEXT\n",
    "language = \"en\"\n",
    "document = {\"content\": 'muslims are the issue', \"type_\": type_, \"language\": language}\n",
    "encoding_type = language_v1.EncodingType.UTF8\n",
    "response = client.analyze_entity_sentiment(request = {'document': document, 'encoding_type': encoding_type})\n",
    "for entity in response.entities:\n",
    "        print(entity.name)\n",
    "        detected_entity = entity.name\n",
    "        closest = get_closest_match(detected_entity) \n",
    "        if closest == -1:\n",
    "            print('The document does not talk about religion or race.')\n",
    "            break\n",
    "        else:\n",
    "            sentiment = entity.sentiment\n",
    "            print(u\"Entity sentiment score: {}\".format(sentiment.score))\n"
   ]
  },
  {
   "cell_type": "code",
   "execution_count": null,
   "metadata": {},
   "outputs": [],
   "source": []
  }
 ],
 "metadata": {
  "interpreter": {
   "hash": "def1e68a8a9ce1204b4bad2666182f457d9c277295bc7a27aee608110ac20ae1"
  },
  "kernelspec": {
   "display_name": "Python 3.9.10 64-bit (windows store)",
   "language": "python",
   "name": "python3"
  },
  "language_info": {
   "codemirror_mode": {
    "name": "ipython",
    "version": 3
   },
   "file_extension": ".py",
   "mimetype": "text/x-python",
   "name": "python",
   "nbconvert_exporter": "python",
   "pygments_lexer": "ipython3",
   "version": "3.8.6"
  },
  "orig_nbformat": 4
 },
 "nbformat": 4,
 "nbformat_minor": 2
}
