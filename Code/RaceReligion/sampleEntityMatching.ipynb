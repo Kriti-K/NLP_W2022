{
 "cells": [
  {
   "cell_type": "code",
   "execution_count": 24,
   "metadata": {},
   "outputs": [],
   "source": [
    "import pickle\n",
    "from google.cloud import language_v1\n",
    "import os\n",
    "import numpy as np\n",
    "from Levenshtein import distance as lsd\n",
    "os.environ[\"GOOGLE_APPLICATION_CREDENTIALS\"]=\"C:/gcp_creds.json\""
   ]
  },
  {
   "cell_type": "code",
   "execution_count": 19,
   "metadata": {},
   "outputs": [],
   "source": [
    "with open('StereosetEntities.pkl','rb') as file_handle:\n",
    "    ss_ents = pickle.load(file_handle)"
   ]
  },
  {
   "cell_type": "code",
   "execution_count": 58,
   "metadata": {},
   "outputs": [],
   "source": [
    "def get_closest_match(entity):\n",
    "    distances = [lsd(entity,word) for word in ss_ents]\n",
    "    index = np.argmin(distances)\n",
    "    if min(distances) < 5: \n",
    "        return ss_ents[index]\n",
    "    else:\n",
    "        return -1"
   ]
  },
  {
   "cell_type": "code",
   "execution_count": 61,
   "metadata": {},
   "outputs": [
    {
     "name": "stdout",
     "output_type": "stream",
     "text": [
      "muslims\n",
      "Entity sentiment score: 0.0\n",
      "issue\n",
      "Entity sentiment score: -0.4000000059604645\n"
     ]
    }
   ],
   "source": [
    "client = language_v1.LanguageServiceClient()\n",
    "type_ = language_v1.types.Document.Type.PLAIN_TEXT\n",
    "language = \"en\"\n",
    "document = {\"content\": 'muslims are the issue', \"type_\": type_, \"language\": language}\n",
    "encoding_type = language_v1.EncodingType.UTF8\n",
    "response = client.analyze_entity_sentiment(request = {'document': document, 'encoding_type': encoding_type})\n",
    "for entity in response.entities:\n",
    "        print(entity.name)\n",
    "        detected_entity = entity.name\n",
    "        closest = get_closest_match(detected_entity) \n",
    "        if closest == -1:\n",
    "            print('The document does not talk about religion or race.')\n",
    "            break\n",
    "        else:\n",
    "            sentiment = entity.sentiment\n",
    "            print(u\"Entity sentiment score: {}\".format(sentiment.score))\n"
   ]
  },
  {
   "cell_type": "code",
   "execution_count": null,
   "metadata": {},
   "outputs": [],
   "source": []
  }
 ],
 "metadata": {
  "interpreter": {
   "hash": "def1e68a8a9ce1204b4bad2666182f457d9c277295bc7a27aee608110ac20ae1"
  },
  "kernelspec": {
   "display_name": "Python 3.9.10 64-bit (windows store)",
   "language": "python",
   "name": "python3"
  },
  "language_info": {
   "codemirror_mode": {
    "name": "ipython",
    "version": 3
   },
   "file_extension": ".py",
   "mimetype": "text/x-python",
   "name": "python",
   "nbconvert_exporter": "python",
   "pygments_lexer": "ipython3",
   "version": "3.9.10"
  },
  "orig_nbformat": 4
 },
 "nbformat": 4,
 "nbformat_minor": 2
}
